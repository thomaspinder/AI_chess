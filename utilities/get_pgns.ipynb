{
 "cells": [
  {
   "cell_type": "code",
   "execution_count": 28,
   "metadata": {},
   "outputs": [],
   "source": [
    "import requests\n",
    "from bs4 import BeautifulSoup\n",
    "import os\n",
    "import re\n",
    "\n",
    "url = 'https://database.lichess.org/standard/list.txt'\n",
    "html = BeautifulSoup(requests.get(url).content, 'lxml')\n",
    "data_links = html.text.split('\\n')\n",
    "\n",
    "for link in data_links[-1:]:\n",
    "    datetime = re.search('[0-9]{4}\\-[0-9]{2}', link).group().replace('-','_')\n",
    "    directory = 'learning/offline/data'\n",
    "    filename = '{}/{}.pgn.bz2'.format(directory, datetime)\n",
    "    os.system(\"curl '{}' > {}\".format(link, filename))\n",
    "    os.system('bzip2 -d {}'.format(filename))\n",
    "    "
   ]
  }
 ],
 "metadata": {
  "kernelspec": {
   "display_name": "Python 3",
   "language": "python",
   "name": "python3"
  },
  "language_info": {
   "codemirror_mode": {
    "name": "ipython",
    "version": 3
   },
   "file_extension": ".py",
   "mimetype": "text/x-python",
   "name": "python",
   "nbconvert_exporter": "python",
   "pygments_lexer": "ipython3",
   "version": "3.6.4"
  }
 },
 "nbformat": 4,
 "nbformat_minor": 2
}
